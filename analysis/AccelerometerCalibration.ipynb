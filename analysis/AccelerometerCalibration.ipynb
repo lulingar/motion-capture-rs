{
 "cells": [
  {
   "cell_type": "markdown",
   "metadata": {},
   "source": [
    "Taken from: https://github.com/vspruyt/FastAhrs/blob/main/notebooks/AccelerometerCalibration.ipynb\n",
    "\n",
    "Python 3 implementation of an accelerometer calibration procedure based on the paper \n",
    "\"Autocalibration of MEMS Accelerometers\" by Frosio et al.\n",
    "This allows you to calibrate the accelerometer without having to perfectly align the \n",
    "accelerometer to a flat surface of any kind.\n",
    "You just have to do a bunch of measurements with the accelerometer held in various random \n",
    "different orientations while holding it still.\n",
    "\n",
    "The approach is based on the fact that the magnitude of each measurement (i.e. `sqrt(x^2 + y^2 + z^2)`) \n",
    "is supposed to be equal to 1 G when there is no linear acceleration going on. This, we can define\n",
    "a non-linear error function, which can then be minimized by the Gauss-Newton algorithm.\n",
    "\n",
    "The mathematical model used is `A = M(V - B)`, where `A` is the unknown calibrated acceleration,\n",
    "while `V` is the measured acceleration which is skewed by unknown bias `B` and scale factor `M`.\n",
    "An optimization procedure is used to find `M` and `B`, such that `sum((|A|-1)^2)` over all \n",
    "samples `A`, is minimized.\n",
    "\n",
    "Note: `M` does not have to be a diagonal matrix. Therefore, this calibration procedure \n",
    "also accounts for cross-talk between the accelerometer axes by estimating the \n",
    "off-diagonal elements of `M`.\n"
   ]
  },
  {
   "cell_type": "code",
   "execution_count": 3,
   "metadata": {},
   "outputs": [],
   "source": [
    "import pandas as pd\n",
    "import numpy as np\n",
    "import scipy.optimize as optimize # Tested with scipy 1.5.2\n",
    "from io import StringIO"
   ]
  },
  {
   "cell_type": "code",
   "execution_count": 109,
   "metadata": {},
   "outputs": [
    {
     "data": {
      "text/plain": [
       "array([1., 0., 0., 0., 1., 0., 0., 0., 1., 0., 0., 0.])"
      ]
     },
     "execution_count": 109,
     "metadata": {},
     "output_type": "execute_result"
    }
   ],
   "source": [
    "# Parameters to optimize\n",
    "params = {\n",
    "    'M': np.array([[1.0, 0.0, 0.0],\n",
    "                   [0.0, 1.0, 0.0],\n",
    "                   [0.0, 0.0, 1.0]]),\n",
    "    'B': np.array([0.0, 0.0, 0.0])\n",
    "}\n",
    "\n",
    "def flatten_params(params):\n",
    "    return np.hstack([params['M'].flatten(), params['B']])\n",
    "\n",
    "def unflatten_params(param_vec):\n",
    "    offset = 0\n",
    "    boundary = params['M'].shape[0] * params['M'].shape[1]\n",
    "    M = param_vec[offset:boundary].reshape(params['M'].shape[0], -1)\n",
    "\n",
    "    offset = boundary\n",
    "    boundary += params['B'].shape[0]\n",
    "    B = param_vec[offset:boundary]\n",
    "    return {'M': M, 'B': B}\n",
    "\n",
    "param_vec = flatten_params(params)\n",
    "param_vec"
   ]
  },
  {
   "cell_type": "code",
   "execution_count": 110,
   "metadata": {},
   "outputs": [
    {
     "data": {
      "text/plain": [
       "{'M': array([[1., 0., 0.],\n",
       "        [0., 1., 0.],\n",
       "        [0., 0., 1.]]),\n",
       " 'B': array([0., 0., 0.])}"
      ]
     },
     "execution_count": 110,
     "metadata": {},
     "output_type": "execute_result"
    }
   ],
   "source": [
    "unflatten_params(param_vec)"
   ]
  },
  {
   "cell_type": "code",
   "execution_count": 140,
   "metadata": {},
   "outputs": [
    {
     "data": {
      "text/plain": [
       "(12129,\n",
       " ['x,y,z',\n",
       "  '0.04370,-0.05054,1.14746',\n",
       "  '0.04614,-0.05005,1.15039',\n",
       "  '0.03882,-0.04663,1.14453'])"
      ]
     },
     "execution_count": 140,
     "metadata": {},
     "output_type": "execute_result"
    }
   ],
   "source": [
    "# Input data is supposed to be in units of standard gravity\n",
    "# The data file contains three columns. The first is the header: x, y, z.\n",
    "# To capture data from an Arduino/Teensy that is connected via USB,\n",
    "# just log to Serial and pipe the output to a file.\n",
    "# If you are using PlatformIO, this is done by the the following\n",
    "# terminal command: 'pio device monitor | tee data_sample.csv'.\n",
    "# We remove lines that contain '>>>' symbols, because\n",
    "# those are used in our C++ app to output information while\n",
    "# logging data.\n",
    "data_lines = [\"x,y,z\"]\n",
    "with open('data_sample.csv', 'r') as infile:\n",
    "    for line in infile:\n",
    "        if (\">>>\" not in line\n",
    "            and \"---\" not in line\n",
    "            and len(line.strip())>0\n",
    "            and line.strip()[0] in \"-0123456789\"):\n",
    "            data_lines.append(line.strip())\n",
    "(len(data_lines), data_lines[:4])"
   ]
  },
  {
   "cell_type": "code",
   "execution_count": 141,
   "metadata": {},
   "outputs": [
    {
     "data": {
      "text/html": [
       "<div>\n",
       "<style scoped>\n",
       "    .dataframe tbody tr th:only-of-type {\n",
       "        vertical-align: middle;\n",
       "    }\n",
       "\n",
       "    .dataframe tbody tr th {\n",
       "        vertical-align: top;\n",
       "    }\n",
       "\n",
       "    .dataframe thead th {\n",
       "        text-align: right;\n",
       "    }\n",
       "</style>\n",
       "<table border=\"1\" class=\"dataframe\">\n",
       "  <thead>\n",
       "    <tr style=\"text-align: right;\">\n",
       "      <th></th>\n",
       "      <th>x</th>\n",
       "      <th>y</th>\n",
       "      <th>z</th>\n",
       "    </tr>\n",
       "  </thead>\n",
       "  <tbody>\n",
       "    <tr>\n",
       "      <th>0</th>\n",
       "      <td>0.04370</td>\n",
       "      <td>-0.05054</td>\n",
       "      <td>1.14746</td>\n",
       "    </tr>\n",
       "    <tr>\n",
       "      <th>1</th>\n",
       "      <td>0.04614</td>\n",
       "      <td>-0.05005</td>\n",
       "      <td>1.15039</td>\n",
       "    </tr>\n",
       "    <tr>\n",
       "      <th>2</th>\n",
       "      <td>0.03882</td>\n",
       "      <td>-0.04663</td>\n",
       "      <td>1.14453</td>\n",
       "    </tr>\n",
       "    <tr>\n",
       "      <th>3</th>\n",
       "      <td>0.04956</td>\n",
       "      <td>-0.05078</td>\n",
       "      <td>1.13403</td>\n",
       "    </tr>\n",
       "    <tr>\n",
       "      <th>4</th>\n",
       "      <td>0.04443</td>\n",
       "      <td>-0.04639</td>\n",
       "      <td>1.13916</td>\n",
       "    </tr>\n",
       "    <tr>\n",
       "      <th>...</th>\n",
       "      <td>...</td>\n",
       "      <td>...</td>\n",
       "      <td>...</td>\n",
       "    </tr>\n",
       "    <tr>\n",
       "      <th>12123</th>\n",
       "      <td>0.05518</td>\n",
       "      <td>-0.03833</td>\n",
       "      <td>1.14038</td>\n",
       "    </tr>\n",
       "    <tr>\n",
       "      <th>12124</th>\n",
       "      <td>0.05444</td>\n",
       "      <td>-0.03979</td>\n",
       "      <td>1.14111</td>\n",
       "    </tr>\n",
       "    <tr>\n",
       "      <th>12125</th>\n",
       "      <td>0.05396</td>\n",
       "      <td>-0.04004</td>\n",
       "      <td>1.13892</td>\n",
       "    </tr>\n",
       "    <tr>\n",
       "      <th>12126</th>\n",
       "      <td>0.05615</td>\n",
       "      <td>-0.03906</td>\n",
       "      <td>1.14673</td>\n",
       "    </tr>\n",
       "    <tr>\n",
       "      <th>12127</th>\n",
       "      <td>0.05811</td>\n",
       "      <td>-0.04077</td>\n",
       "      <td>1.14136</td>\n",
       "    </tr>\n",
       "  </tbody>\n",
       "</table>\n",
       "<p>12128 rows × 3 columns</p>\n",
       "</div>"
      ],
      "text/plain": [
       "             x        y        z\n",
       "0      0.04370 -0.05054  1.14746\n",
       "1      0.04614 -0.05005  1.15039\n",
       "2      0.03882 -0.04663  1.14453\n",
       "3      0.04956 -0.05078  1.13403\n",
       "4      0.04443 -0.04639  1.13916\n",
       "...        ...      ...      ...\n",
       "12123  0.05518 -0.03833  1.14038\n",
       "12124  0.05444 -0.03979  1.14111\n",
       "12125  0.05396 -0.04004  1.13892\n",
       "12126  0.05615 -0.03906  1.14673\n",
       "12127  0.05811 -0.04077  1.14136\n",
       "\n",
       "[12128 rows x 3 columns]"
      ]
     },
     "execution_count": 141,
     "metadata": {},
     "output_type": "execute_result"
    }
   ],
   "source": [
    "data_df = pd.read_csv(StringIO('\\n'.join(data_lines)))\n",
    "data_df"
   ]
  },
  {
   "cell_type": "code",
   "execution_count": 132,
   "metadata": {},
   "outputs": [
    {
     "data": {
      "text/plain": [
       "array([[ 0.04883, -0.052  ,  1.14917],\n",
       "       [ 0.04346, -0.05176,  1.14478],\n",
       "       [ 0.04028, -0.04736,  1.14282],\n",
       "       ...,\n",
       "       [ 0.04541, -0.04834,  1.14966],\n",
       "       [ 0.03955, -0.04468,  1.14795],\n",
       "       [ 0.04639, -0.0481 ,  1.14478]])"
      ]
     },
     "execution_count": 132,
     "metadata": {},
     "output_type": "execute_result"
    }
   ],
   "source": [
    "params['M'].dot((data_df.values - params['B']).transpose()).transpose()"
   ]
  },
  {
   "cell_type": "code",
   "execution_count": 133,
   "metadata": {},
   "outputs": [
    {
     "data": {
      "text/plain": [
       "array([[ 0.04883, -0.052  ,  1.14917],\n",
       "       [ 0.04346, -0.05176,  1.14478],\n",
       "       [ 0.04028, -0.04736,  1.14282],\n",
       "       ...,\n",
       "       [ 0.04541, -0.04834,  1.14966],\n",
       "       [ 0.03955, -0.04468,  1.14795],\n",
       "       [ 0.04639, -0.0481 ,  1.14478]])"
      ]
     },
     "execution_count": 133,
     "metadata": {},
     "output_type": "execute_result"
    }
   ],
   "source": [
    "np.matmul(params['M'], (data_df.values - params['B']).transpose()).transpose()"
   ]
  },
  {
   "cell_type": "code",
   "execution_count": 157,
   "metadata": {},
   "outputs": [
    {
     "name": "stdout",
     "output_type": "stream",
     "text": [
      "   Iteration     Total nfev        Cost      Cost reduction    Step norm     Optimality   \n",
      "       0              1         1.2721e+02                                    1.36e+03    \n",
      "       1              4         1.1438e+01      1.16e+02       1.08e-01       2.67e+02    \n",
      "       2              6         2.7370e+00      8.70e+00       2.71e-02       1.21e+02    \n",
      "       3              7         4.1188e-01      2.33e+00       5.41e-02       5.68e+01    \n",
      "       4              9         3.0422e-01      1.08e-01       2.71e-02       6.90e+00    \n",
      "       5             10         2.3388e-01      7.03e-02       2.71e-02       4.63e+00    \n",
      "       6             12         2.1023e-01      2.36e-02       6.77e-03       1.78e+00    \n",
      "       7             15         2.0860e-01      1.63e-03       8.46e-04       7.08e-01    \n",
      "       8             17         2.0834e-01      2.59e-04       4.23e-04       2.71e-01    \n",
      "       9             19         2.0834e-01      2.68e-06       2.11e-04       3.16e-01    \n",
      "      10             20         2.0832e-01      1.92e-05       5.29e-05       1.84e-01    \n",
      "      11             21         2.0831e-01      1.06e-05       1.06e-04       6.60e-02    \n",
      "      12             23         2.0830e-01      1.36e-06       2.64e-05       1.26e-02    \n",
      "      13             25         2.0830e-01      9.23e-08       6.61e-06       7.43e-03    \n",
      "      14             27         2.0830e-01      1.62e-08       3.30e-06       2.15e-03    \n",
      "      15             29         2.0830e-01      2.58e-09       8.26e-07       8.95e-04    \n",
      "      16             30         2.0830e-01      2.71e-10       8.26e-07       9.88e-04    \n",
      "      17             32         2.0830e-01      2.15e-10       2.06e-07       4.39e-04    \n",
      "      18             33         2.0830e-01      5.22e-11       2.06e-07       9.65e-05    \n",
      "      19             35         2.0830e-01      3.84e-12       5.16e-08       4.43e-05    \n",
      "      20             37         2.0830e-01      1.26e-13       1.29e-08       1.61e-05    \n",
      "`xtol` termination condition is satisfied.\n",
      "Function evaluations 37, initial cost 1.2721e+02, final cost 2.0830e-01, first-order optimality 1.61e-05.\n",
      "Success!\n",
      "Number of evaluations: 37\n",
      "`xtol` termination condition is satisfied.\n"
     ]
    }
   ],
   "source": [
    "# Define the loss function to be minimized\n",
    "def get_unbiased_values(param_vec, sensor_vals_matrix):\n",
    "    params = unflatten_params(param_vec)\n",
    "    return params['M'].dot((data_df.values - params['B']).transpose()).transpose()\n",
    "\n",
    "\n",
    "def loss_function(param_vec, sensor_vals):\n",
    "    unbiased_values = get_unbiased_values(param_vec, sensor_vals)\n",
    "    squared_norm = np.sum(unbiased_values**2,axis=-1)\n",
    "    tmp_params = unflatten_params(param_vec)\n",
    "    M = tmp_params['M']\n",
    "    # The last part of this error is a small regularization term which takes into account the\n",
    "    # norm of the off-diagonal elements of the scaling matrix.\n",
    "    # This ensures that we try to find a solution that doesn't skew the raw measurements too much,\n",
    "    # and helps a lot when it comes to avoiding overfitting.\n",
    "    # Try to set the weight (0.1) to zero, and see what happens to the result.\n",
    "    err = abs(squared_norm - 1) + \\\n",
    "          0.08*np.linalg.norm([M[0, 1], M[0, 2], M[1, 0], M[1, 2], M[2, 0], M[2, 1]])\n",
    "    return err\n",
    "\n",
    "\n",
    "# Minimize the sum, over all samples, of the square of the loss function\n",
    "result = optimize.least_squares(loss_function, param_vec,\n",
    "                                args=(data_df.values,),\n",
    "                                loss='soft_l1', f_scale=0.1,\n",
    "                                verbose=2, ftol=1e-11,\n",
    "                               )\n",
    "if result.success:\n",
    "    print('Success!')\n",
    "else:\n",
    "    print('Solution not found!')\n",
    "\n",
    "print(f\"Number of evaluations: {result.nfev}\")\n",
    "print(result.message)"
   ]
  },
  {
   "cell_type": "code",
   "execution_count": 158,
   "metadata": {},
   "outputs": [
    {
     "name": "stdout",
     "output_type": "stream",
     "text": [
      "Calibration done!\n",
      "To calibrate your new samples, use [new_x, new_y, new_z] = ([raw_x, raw_y, raw_z]-B)M\n",
      "\n",
      "M:\n",
      "[[9.97643554e-01 9.49082059e-05 8.79251628e-04]\n",
      " [9.48468209e-05 9.97001949e-01 2.25321705e-04]\n",
      " [8.71089265e-04 2.23376965e-04 9.88382490e-01]]\n",
      "\n",
      "B:\n",
      "[ 0.02550119 -0.00721161  0.13346816]\n"
     ]
    }
   ],
   "source": [
    "calibration_params = unflatten_params(result.x)\n",
    "\n",
    "print('Calibration done!')\n",
    "print('To calibrate your new samples, use [new_x, new_y, new_z] = ([raw_x, raw_y, raw_z]-B)M')\n",
    "print('')\n",
    "print('M:')\n",
    "print(calibration_params['M'])\n",
    "print('')\n",
    "print('B:')\n",
    "print(calibration_params['B'])\n"
   ]
  },
  {
   "cell_type": "code",
   "execution_count": 146,
   "metadata": {},
   "outputs": [
    {
     "name": "stdout",
     "output_type": "stream",
     "text": [
      "let acc_misalignment = FusionMatrix::new(0.997644f32, 9.51672e-05f32, 0.000879306f32, \n",
      "                                         9.5087e-05f32, 0.997002f32, 0.000225248f32, \n",
      "                                         0.000871131f32, 0.000223482f32, 0.988382f32);\n",
      "let acc_offset = FusionVector::new(0.0255012f32, -0.00721161f32, 0.133468f32);\n"
     ]
    }
   ],
   "source": [
    "# Use the following printed lines for our Arduino/Teensy C-code normalization\n",
    "# by pasting it in CalibrationEEPROM_read_write.cpp.\n",
    "\n",
    "print(\"let acc_misalignment = FusionMatrix::new(\", end=\"\")\n",
    "els = calibration_params['M'].flatten()\n",
    "for ix, el in enumerate(els):\n",
    "    print(f\"{el:.6}\", end=\"\")\n",
    "    if ix < len(els)-1:\n",
    "        print(\", \", end=\"\")\n",
    "        if ix in [2,5]:\n",
    "            print(\"\\n                                         \", end=\"\")\n",
    "\n",
    "print(\");\")\n",
    "\n",
    "print(\"let acc_offset = FusionVector::new(\", end=\"\")\n",
    "print(f\"{calibration_params['B'][0]:.6}f32, {calibration_params['B'][1]:.6}f32, {calibration_params['B'][2]:.6}f32\", end=\"\");\n",
    "print(\");\")"
   ]
  },
  {
   "cell_type": "code",
   "execution_count": null,
   "metadata": {},
   "outputs": [],
   "source": []
  }
 ],
 "metadata": {
  "kernelspec": {
   "display_name": "Python 3 (ipykernel)",
   "language": "python",
   "name": "python3"
  },
  "language_info": {
   "codemirror_mode": {
    "name": "ipython",
    "version": 3
   },
   "file_extension": ".py",
   "mimetype": "text/x-python",
   "name": "python",
   "nbconvert_exporter": "python",
   "pygments_lexer": "ipython3",
   "version": "3.12.3"
  }
 },
 "nbformat": 4,
 "nbformat_minor": 4
}
